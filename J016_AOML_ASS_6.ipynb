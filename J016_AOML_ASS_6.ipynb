{
 "cells": [
  {
   "cell_type": "code",
   "execution_count": 1,
   "metadata": {},
   "outputs": [],
   "source": [
    "import numpy as np\n",
    "import pandas as pd\n",
    "from sklearn.svm import SVC\n",
    "from sklearn.model_selection import train_test_split, GridSearchCV\n",
    "from sklearn.preprocessing import StandardScaler\n",
    "from sklearn.metrics import accuracy_score\n",
    "\n",
    "# Load Fashion-MNIST dataset (assuming it's in CSV format)\n",
    "data = pd.read_csv(r\"C:\\Users\\chira\\Downloads\\archive (16)\\fashion-mnist_train.csv\")\n",
    "test_data = pd.read_csv(r\"C:\\Users\\chira\\Downloads\\archive (16)\\fashion-mnist_test.csv\")\n",
    "\n",
    "data = data.sample(n=10000, random_state=42)\n",
    "test_data = test_data.sample(n=2000, random_state=42)\n",
    "\n",
    "# Split features and labels\n",
    "X_train = data.iloc[:, 1:].values  # Pixel values\n",
    "y_train = data.iloc[:, 0].values   # Labels\n",
    "X_test = test_data.iloc[:, 1:].values\n",
    "y_test = test_data.iloc[:, 0].values\n",
    "\n",
    "# Standardize the dataset\n",
    "scaler = StandardScaler()\n",
    "X_train = scaler.fit_transform(X_train)\n",
    "X_test = scaler.transform(X_test)\n",
    "\n"
   ]
  },
  {
   "cell_type": "code",
   "execution_count": null,
   "metadata": {},
   "outputs": [
    {
     "name": "stdout",
     "output_type": "stream",
     "text": [
      "Linear Kernel - C: 0.1, Accuracy: 0.8275\n",
      "Linear Kernel - C: 1, Accuracy: 0.8000\n",
      "Linear Kernel - C: 10, Accuracy: 0.7855\n",
      "Linear Kernel - C: 100, Accuracy: 0.7835\n",
      "Best C for Linear Kernel: 0.1\n"
     ]
    }
   ],
   "source": [
    "# 1. Train SVM with Linear Kernel\n",
    "C_values = [0.1, 1, 10, 100]\n",
    "best_C = None\n",
    "best_accuracy = 0\n",
    "\n",
    "for C in C_values:\n",
    "    model = SVC(kernel='linear', C=C)\n",
    "    model.fit(X_train, y_train)\n",
    "    y_pred = model.predict(X_test)\n",
    "    acc = accuracy_score(y_test, y_pred)\n",
    "    print(f\"Linear Kernel - C: {C}, Accuracy: {acc:.4f}\")\n",
    "    if acc > best_accuracy:\n",
    "        best_accuracy = acc\n",
    "        best_C = C\n",
    "\n",
    "print(f\"Best C for Linear Kernel: {best_C}\")\n",
    "\n",
    "# 2. Train SVM with Polynomial Kernel using GridSearch\n",
    "param_grid_poly = {'C': [0.1, 1, 10], 'degree': [2, 3, 4]}\n",
    "poly_svm = GridSearchCV(SVC(kernel='poly'), param_grid_poly, cv=3)\n",
    "poly_svm.fit(X_train, y_train)\n",
    "print(f\"Best parameters for Polynomial Kernel: {poly_svm.best_params_}\")\n",
    "\n",
    "# 3. Train SVM with RBF Kernel using GridSearch\n",
    "param_grid_rbf = {'C': [0.1, 1, 10], 'gamma': [0.001, 0.01, 0.1]}\n",
    "rbf_svm = GridSearchCV(SVC(kernel='rbf'), param_grid_rbf, cv=3)\n",
    "rbf_svm.fit(X_train, y_train)\n",
    "print(f\"Best parameters for RBF Kernel: {rbf_svm.best_params_}\")\n"
   ]
  }
 ],
 "metadata": {
  "kernelspec": {
   "display_name": "Python 3",
   "language": "python",
   "name": "python3"
  },
  "language_info": {
   "codemirror_mode": {
    "name": "ipython",
    "version": 3
   },
   "file_extension": ".py",
   "mimetype": "text/x-python",
   "name": "python",
   "nbconvert_exporter": "python",
   "pygments_lexer": "ipython3",
   "version": "3.11.1"
  }
 },
 "nbformat": 4,
 "nbformat_minor": 2
}
